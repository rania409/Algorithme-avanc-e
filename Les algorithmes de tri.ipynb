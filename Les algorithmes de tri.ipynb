{
 "cells": [
  {
   "cell_type": "code",
   "execution_count": 15,
   "metadata": {},
   "outputs": [],
   "source": [
    "import random\n",
    "import time\n",
    "import numpy \n",
    "import timeit\n",
    "import matplotlib.pyplot as plt\n"
   ]
  },
  {
   "cell_type": "markdown",
   "metadata": {},
   "source": [
    "<html>\n",
    "    <body>\n",
    "        <h1 >Tri par Selection</h1>\n",
    "    </body>\n",
    "    </html>"
   ]
  },
  {
   "cell_type": "code",
   "execution_count": 2,
   "metadata": {},
   "outputs": [],
   "source": [
    "def tri_selection(tab):\n",
    "   for i in range(len(tab)):\n",
    "      # Trouver le min\n",
    "       min = i\n",
    "       for j in range(i+1, len(tab)):\n",
    "           if tab[min] > tab[j]:\n",
    "               min = j\n",
    "                \n",
    "       tmp = tab[i]\n",
    "       tab[i] = tab[min]\n",
    "       tab[min] = tmp\n",
    "   return tab"
   ]
  },
  {
   "cell_type": "code",
   "execution_count": 3,
   "metadata": {},
   "outputs": [],
   "source": [
    "tab = [98, 22, 15, 32, 2, 74, 63, 70]"
   ]
  },
  {
   "cell_type": "code",
   "execution_count": 4,
   "metadata": {},
   "outputs": [
    {
     "data": {
      "text/plain": [
       "[2, 15, 22, 32, 63, 70, 74, 98]"
      ]
     },
     "execution_count": 4,
     "metadata": {},
     "output_type": "execute_result"
    }
   ],
   "source": [
    "tri_selection(tab)"
   ]
  },
  {
   "cell_type": "markdown",
   "metadata": {},
   "source": [
    "<html>\n",
    "    <body>\n",
    "        <h1 >Analyse du temps d'exécution de tri par selection </h1>\n",
    "    </body>\n",
    "    </html>"
   ]
  },
  {
   "cell_type": "code",
   "execution_count": 5,
   "metadata": {},
   "outputs": [
    {
     "name": "stdout",
     "output_type": "stream",
     "text": [
      "[5726, 9504, 4011, 8545, 7840, 7679, 1059, 7556, 6659, 732]\n",
      "[732, 1059, 4011, 5726, 6659, 7556, 7679, 7840, 8545, 9504]\n",
      "0.1039888858795166\n",
      "7.190734148025513\n"
     ]
    }
   ],
   "source": [
    "tableau1 = [random.randint(0,10000) for i in range(10)]\n",
    "tableau2 = [random.randint(0,10000) for i in range(1000)]\n",
    "tableau3 = [random.randint(0,10000) for i in range(10000)]\n",
    "def test(tab):\n",
    "#test de durée d’exécution \"\"\"\n",
    "    debut = time.time()\n",
    "    tri_selection(tab)\n",
    "    fin = time.time()\n",
    "    return fin - debut\n",
    "print(tableau1)\n",
    "print(tri_selection(tableau1))\n",
    "print(test(tableau2))\n",
    "print(test(tableau3))"
   ]
  },
  {
   "cell_type": "code",
   "execution_count": 6,
   "metadata": {},
   "outputs": [
    {
     "data": {
      "text/plain": [
       "1.259999999980721e-05"
      ]
     },
     "execution_count": 6,
     "metadata": {},
     "output_type": "execute_result"
    }
   ],
   "source": [
    "timeit.timeit( \"tri_selection\",\n",
    "globals=globals(),\n",
    "number=100)\n"
   ]
  },
  {
   "cell_type": "code",
   "execution_count": 7,
   "metadata": {},
   "outputs": [
    {
     "data": {
      "text/plain": [
       "0.009478899999999513"
      ]
     },
     "execution_count": 7,
     "metadata": {},
     "output_type": "execute_result"
    }
   ],
   "source": [
    "timeit.timeit( \"tri_selection\",\n",
    "globals=globals(),\n",
    "number=100000)"
   ]
  },
  {
   "cell_type": "code",
   "execution_count": 8,
   "metadata": {},
   "outputs": [
    {
     "data": {
      "text/plain": [
       "0.0024433999999988743"
      ]
     },
     "execution_count": 8,
     "metadata": {},
     "output_type": "execute_result"
    }
   ],
   "source": [
    "timeit.timeit( \"tri_selection\",\n",
    "globals=globals(),\n",
    "number=20000)"
   ]
  },
  {
   "cell_type": "markdown",
   "metadata": {},
   "source": [
    "<html>\n",
    "    <body>\n",
    "        <h1 > La courbe de tri par selection </h1>\n",
    "    </body>\n",
    "    </html>"
   ]
  },
  {
   "cell_type": "code",
   "execution_count": 10,
   "metadata": {},
   "outputs": [],
   "source": [
    "from random import randint"
   ]
  },
  {
   "cell_type": "code",
   "execution_count": 11,
   "metadata": {},
   "outputs": [],
   "source": [
    "def randlist(n):\n",
    "    return([randint(1,100) for i in range(n)])\n"
   ]
  },
  {
   "cell_type": "code",
   "execution_count": 13,
   "metadata": {},
   "outputs": [],
   "source": [
    "from functools import partial\n",
    "x,y=[],[]\n",
    "for i in range(1,1000,10):\n",
    "    testTimer=timeit.Timer(partial(tri_selection,randlist(i)))\n",
    "    t=testTimer.timeit(number=10)\n",
    "    x.append(i)\n",
    "    y.append(t)\n",
    "    "
   ]
  },
  {
   "cell_type": "code",
   "execution_count": 78,
   "metadata": {},
   "outputs": [
    {
     "data": {
      "text/plain": [
       "[<matplotlib.lines.Line2D at 0x1dd5944b040>]"
      ]
     },
     "execution_count": 78,
     "metadata": {},
     "output_type": "execute_result"
    },
    {
     "data": {
      "image/png": "[encoded data removed]",
      "text/plain": [
       "<Figure size 432x288 with 1 Axes>"
      ]
     },
     "metadata": {
      "needs_background": "light"
     },
     "output_type": "display_data"
    }
   ],
   "source": [
    "plt.plot(x,y,marker='.')"
   ]
  },
  {
   "cell_type": "markdown",
   "metadata": {},
   "source": [
    "<html>\n",
    "    <body>\n",
    "        <h1 >Tri à bulle </h1>\n",
    "    </body>\n",
    "    </html>"
   ]
  },
  {
   "cell_type": "code",
   "execution_count": 20,
   "metadata": {},
   "outputs": [],
   "source": [
    "def tri_bulle(tab):\n",
    "    n = len(tab)\n",
    "    # Traverser tous les éléments du tableau\n",
    "    for i in range(n):\n",
    "        for j in range(0, n-i-1):\n",
    "            # échanger si l'élément trouvé est plus grand que le suivant\n",
    "            if tab[j] > tab[j+1] :\n",
    "                tab[j], tab[j+1] = tab[j+1], tab[j]\n",
    "    return tab           "
   ]
  },
  {
   "cell_type": "code",
   "execution_count": 21,
   "metadata": {},
   "outputs": [],
   "source": [
    "# Programme principale pour tester le code ci-dessus\n",
    "tab = [77, 22, 5, 20, 2, 74, 63, 70]"
   ]
  },
  {
   "cell_type": "code",
   "execution_count": 22,
   "metadata": {},
   "outputs": [
    {
     "data": {
      "text/plain": [
       "[2, 5, 20, 22, 63, 70, 74, 77]"
      ]
     },
     "execution_count": 22,
     "metadata": {},
     "output_type": "execute_result"
    }
   ],
   "source": [
    "tri_bulle(tab)"
   ]
  },
  {
   "cell_type": "markdown",
   "metadata": {},
   "source": [
    "<html>\n",
    "    <body>\n",
    "        <h1 >Analyse du temps d'exécution de tri a bulle </h1>\n",
    "    </body>\n",
    "    </html>"
   ]
  },
  {
   "cell_type": "code",
   "execution_count": 23,
   "metadata": {},
   "outputs": [
    {
     "name": "stdout",
     "output_type": "stream",
     "text": [
      "[3102, 5798, 6099, 4396, 9219, 5183, 2631, 5954, 3155, 3932]\n",
      "[2631, 3102, 3155, 3932, 4396, 5183, 5798, 5954, 6099, 9219]\n",
      "0.19198155403137207\n",
      "16.949832439422607\n"
     ]
    }
   ],
   "source": [
    "tableau1 = [random.randint(0,10000) for i in range(10)]\n",
    "tableau2 = [random.randint(0,10000) for i in range(1000)]\n",
    "tableau3 = [random.randint(0,10000) for i in range(10000)]\n",
    "def test(tab):\n",
    "#test de durée d’exécution \"\"\"\n",
    "    debut = time.time()\n",
    "    tri_bulle(tab)\n",
    "    fin = time.time()\n",
    "    return fin - debut\n",
    "print(tableau1)\n",
    "print(tri_bulle(tableau1))\n",
    "print(test(tableau2))\n",
    "print(test(tableau3))"
   ]
  },
  {
   "cell_type": "code",
   "execution_count": 24,
   "metadata": {},
   "outputs": [
    {
     "data": {
      "text/plain": [
       "1.0100000054080738e-05"
      ]
     },
     "execution_count": 24,
     "metadata": {},
     "output_type": "execute_result"
    }
   ],
   "source": [
    "timeit.timeit( \"tri_bulle\",\n",
    "globals=globals(),\n",
    "number=100)"
   ]
  },
  {
   "cell_type": "code",
   "execution_count": 25,
   "metadata": {},
   "outputs": [
    {
     "data": {
      "text/plain": [
       "0.011455900000328256"
      ]
     },
     "execution_count": 25,
     "metadata": {},
     "output_type": "execute_result"
    }
   ],
   "source": [
    "timeit.timeit( \"tri_bulle\",\n",
    "globals=globals(),\n",
    "number=100000)"
   ]
  },
  {
   "cell_type": "code",
   "execution_count": 26,
   "metadata": {},
   "outputs": [
    {
     "data": {
      "text/plain": [
       "0.0009983999998439685"
      ]
     },
     "execution_count": 26,
     "metadata": {},
     "output_type": "execute_result"
    }
   ],
   "source": [
    "timeit.timeit( \"tri_bulle\",\n",
    "globals=globals(),\n",
    "number=20000)"
   ]
  },
  {
   "cell_type": "markdown",
   "metadata": {},
   "source": [
    "<html>\n",
    "    <body>\n",
    "        <h1 > La courbe de tri a bulle </h1>\n",
    "    </body>\n",
    "    </html>"
   ]
  },
  {
   "cell_type": "code",
   "execution_count": 27,
   "metadata": {},
   "outputs": [],
   "source": [
    "from functools import partial\n",
    "x,y=[],[]\n",
    "for i in range(1,1000,10):\n",
    "    testTimer=timeit.Timer(partial(tri_bulle,randlist(i)))\n",
    "    t=testTimer.timeit(number=10)\n",
    "    x.append(i)\n",
    "    y.append(t)"
   ]
  },
  {
   "cell_type": "code",
   "execution_count": 30,
   "metadata": {},
   "outputs": [
    {
     "data": {
      "text/plain": [
       "[<matplotlib.lines.Line2D at 0x1dd59284a90>]"
      ]
     },
     "execution_count": 30,
     "metadata": {},
     "output_type": "execute_result"
    },
    {
     "data": {
      "image/png": "[encoded data removed]",
      "text/plain": [
       "<Figure size 432x288 with 1 Axes>"
      ]
     },
     "metadata": {
      "needs_background": "light"
     },
     "output_type": "display_data"
    }
   ],
   "source": [
    "plt.plot(x,y,marker='*')"
   ]
  },
  {
   "cell_type": "markdown",
   "metadata": {},
   "source": [
    "<html>\n",
    "    <body>\n",
    "        <h1 >Tri par insertion</h1>\n",
    "    </body>\n",
    "    </html>\n",
    "    "
   ]
  },
  {
   "cell_type": "code",
   "execution_count": 31,
   "metadata": {},
   "outputs": [],
   "source": [
    "def tri_insertion(liste):\n",
    "    L = list(liste) \n",
    "    N = len(L)\n",
    "    for n in range(1,N):\n",
    "        cle = L[n]\n",
    "        j = n-1\n",
    "        while j>=0 and L[j] > cle:\n",
    "            L[j+1] = L[j] # decalage\n",
    "            j = j-1\n",
    "        L[j+1] = cle\n",
    "    return L\n",
    "    \n",
    "liste = []\n",
    "for k in range(10):\n",
    "    liste.append(random.randint(0,20))\n",
    "liste_triee = tri_insertion(liste)\n",
    "                      "
   ]
  },
  {
   "cell_type": "code",
   "execution_count": 32,
   "metadata": {},
   "outputs": [
    {
     "name": "stdout",
     "output_type": "stream",
     "text": [
      "[3, 20, 3, 3, 12, 20, 4, 6, 14, 10]\n"
     ]
    }
   ],
   "source": [
    "print(liste)\n"
   ]
  },
  {
   "cell_type": "code",
   "execution_count": 33,
   "metadata": {},
   "outputs": [
    {
     "name": "stdout",
     "output_type": "stream",
     "text": [
      "[3, 3, 3, 4, 6, 10, 12, 14, 20, 20]\n"
     ]
    }
   ],
   "source": [
    "print(liste_triee)"
   ]
  },
  {
   "cell_type": "markdown",
   "metadata": {},
   "source": [
    "<html>\n",
    "    <body>\n",
    "        <h1 >Analyse du temps d'exécution de tri insertion </h1>\n",
    "    </body>\n",
    "    </html>"
   ]
  },
  {
   "cell_type": "code",
   "execution_count": 34,
   "metadata": {},
   "outputs": [
    {
     "name": "stdout",
     "output_type": "stream",
     "text": [
      "[9270, 2522, 5984, 6624, 3788, 3322, 2904, 6399, 9749, 6828]\n",
      "[2522, 2904, 3322, 3788, 5984, 6399, 6624, 6828, 9270, 9749]\n",
      "0.09601116180419922\n",
      "8.764216899871826\n"
     ]
    }
   ],
   "source": [
    "tableau1 = [random.randint(0,10000) for i in range(10)]\n",
    "tableau2 = [random.randint(0,10000) for i in range(1000)]\n",
    "tableau3 = [random.randint(0,10000) for i in range(10000)]\n",
    "def test(tab):\n",
    "#\"\"\" test de durée d’exécution \"\"\"\n",
    "    debut = time.time()\n",
    "    tri_insertion(tab)\n",
    "    fin = time.time()\n",
    "    return fin - debut\n",
    "print(tableau1)\n",
    "print(tri_insertion(tableau1))\n",
    "print(test(tableau2))\n",
    "print(test(tableau3))"
   ]
  },
  {
   "cell_type": "code",
   "execution_count": 35,
   "metadata": {},
   "outputs": [
    {
     "data": {
      "text/plain": [
       "4.900000021734741e-06"
      ]
     },
     "execution_count": 35,
     "metadata": {},
     "output_type": "execute_result"
    }
   ],
   "source": [
    "timeit.timeit( \"tri_insertion\",\n",
    "globals=globals(),\n",
    "number=100)"
   ]
  },
  {
   "cell_type": "code",
   "execution_count": 36,
   "metadata": {},
   "outputs": [
    {
     "data": {
      "text/plain": [
       "0.004499800000303367"
      ]
     },
     "execution_count": 36,
     "metadata": {},
     "output_type": "execute_result"
    }
   ],
   "source": [
    "timeit.timeit( \"tri_insertion\",\n",
    "globals=globals(),\n",
    "number=100000)"
   ]
  },
  {
   "cell_type": "code",
   "execution_count": 37,
   "metadata": {},
   "outputs": [
    {
     "data": {
      "text/plain": [
       "0.0008049999996728729"
      ]
     },
     "execution_count": 37,
     "metadata": {},
     "output_type": "execute_result"
    }
   ],
   "source": [
    "timeit.timeit( \"tri_insertion\",\n",
    "globals=globals(),\n",
    "number=20000)"
   ]
  },
  {
   "cell_type": "markdown",
   "metadata": {},
   "source": [
    "<html>\n",
    "    <body>\n",
    "        <h1 > La courbe de tri par insertion </h1>\n",
    "    </body>\n",
    "    </html>"
   ]
  },
  {
   "cell_type": "code",
   "execution_count": 38,
   "metadata": {},
   "outputs": [],
   "source": [
    "from functools import partial\n",
    "x,y=[],[]\n",
    "for i in range(1,1000,10):\n",
    "    testTimer=timeit.Timer(partial(tri_insertion,randlist(i)))\n",
    "    t=testTimer.timeit(number=10)\n",
    "    x.append(i)\n",
    "    y.append(t)"
   ]
  },
  {
   "cell_type": "code",
   "execution_count": 79,
   "metadata": {},
   "outputs": [
    {
     "data": {
      "text/plain": [
       "[<matplotlib.lines.Line2D at 0x1dd5949b160>]"
      ]
     },
     "execution_count": 79,
     "metadata": {},
     "output_type": "execute_result"
    },
    {
     "data": {
      "image/png": "[encoded data removed]",
      "text/plain": [
       "<Figure size 432x288 with 1 Axes>"
      ]
     },
     "metadata": {
      "needs_background": "light"
     },
     "output_type": "display_data"
    }
   ],
   "source": [
    "plt.plot(x,y,marker='o')"
   ]
  },
  {
   "cell_type": "markdown",
   "metadata": {},
   "source": [
    "<html>\n",
    "    <body>\n",
    "        <h1 >Tri par fusion</h1>\n",
    "    </body>\n",
    "    </html>"
   ]
  },
  {
   "cell_type": "code",
   "execution_count": 40,
   "metadata": {},
   "outputs": [],
   "source": [
    "def fusion(L1,L2):\n",
    "    n1 = len(L1)\n",
    "    n2 = len(L2)\n",
    "    L12 = [0]*(n1+n2)\n",
    "    i1 = 0\n",
    "    i2 = 0\n",
    "    i = 0\n",
    "    while i1<n1 and i2<n2:\n",
    "        if L1[i1] < L2[i2]:\n",
    "            L12[i] = L1[i1]\n",
    "            i1 += 1\n",
    "        else:\n",
    "            L12[i] = L2[i2]\n",
    "            i2 += 1\n",
    "        i += 1\n",
    "    while i1<n1:\n",
    "        L12[i] = L1[i1]\n",
    "        i1 += 1\n",
    "        i += 1\n",
    "    while i2<n2:\n",
    "        L12[i] = L2[i2]\n",
    "        i2 += 1\n",
    "        i += 1 \n",
    "    return L12"
   ]
  },
  {
   "cell_type": "code",
   "execution_count": 41,
   "metadata": {},
   "outputs": [],
   "source": [
    "L = fusion([1,6,10],[0,7,8,9])"
   ]
  },
  {
   "cell_type": "code",
   "execution_count": 42,
   "metadata": {},
   "outputs": [
    {
     "name": "stdout",
     "output_type": "stream",
     "text": [
      "[0, 1, 6, 7, 8, 9, 10]\n"
     ]
    }
   ],
   "source": [
    "print(L)"
   ]
  },
  {
   "cell_type": "markdown",
   "metadata": {},
   "source": [
    "<html>\n",
    "    <body>\n",
    "        <h1 >Analyse du temps d'exécution de tri par fusion </h1>\n",
    "    </body>\n",
    "    </html>"
   ]
  },
  {
   "cell_type": "code",
   "execution_count": 43,
   "metadata": {},
   "outputs": [
    {
     "data": {
      "text/plain": [
       "4.900000021734741e-06"
      ]
     },
     "execution_count": 43,
     "metadata": {},
     "output_type": "execute_result"
    }
   ],
   "source": [
    "timeit.timeit( \"fusion\",\n",
    "globals=globals(),\n",
    "number=100)"
   ]
  },
  {
   "cell_type": "code",
   "execution_count": 44,
   "metadata": {},
   "outputs": [
    {
     "data": {
      "text/plain": [
       "0.0054077999998298765"
      ]
     },
     "execution_count": 44,
     "metadata": {},
     "output_type": "execute_result"
    }
   ],
   "source": [
    "timeit.timeit( \"fusion\",\n",
    "globals=globals(),\n",
    "number=100000)"
   ]
  },
  {
   "cell_type": "code",
   "execution_count": 45,
   "metadata": {},
   "outputs": [
    {
     "data": {
      "text/plain": [
       "0.0016786999999567342"
      ]
     },
     "execution_count": 45,
     "metadata": {},
     "output_type": "execute_result"
    }
   ],
   "source": [
    "timeit.timeit( \"fusion\",\n",
    "globals=globals(),\n",
    "number=20000)"
   ]
  },
  {
   "cell_type": "markdown",
   "metadata": {},
   "source": [
    "<html>\n",
    "    <body>\n",
    "        <h1 >Tri par fusion reccursif</h1>\n",
    "    </body>\n",
    "    </html>"
   ]
  },
  {
   "cell_type": "code",
   "execution_count": 47,
   "metadata": {},
   "outputs": [],
   "source": [
    "def tri_fusion_recursif(L):\n",
    "    n = len(L)\n",
    "    if n > 1:\n",
    "        p = int(n/2)\n",
    "        L1 = L[0:p]\n",
    "        L2 = L[p:n]\n",
    "        tri_fusion_recursif(L1)\n",
    "        tri_fusion_recursif(L2)\n",
    "        L[:] = fusion(L1,L2)\n",
    "    \n",
    "def tri_fusion(L):\n",
    "    M = list(L)\n",
    "    tri_fusion_recursif(M)\n",
    "    return M\n",
    "                  \n",
    "liste = []\n",
    "for k in range(11):\n",
    "    liste.append(random.randint(0,20))\n",
    "liste_triee = tri_fusion(liste)\n",
    "                  "
   ]
  },
  {
   "cell_type": "code",
   "execution_count": 48,
   "metadata": {},
   "outputs": [
    {
     "name": "stdout",
     "output_type": "stream",
     "text": [
      "[5, 14, 2, 1, 14, 19, 15, 7, 13, 5, 14]\n"
     ]
    }
   ],
   "source": [
    "print(liste)"
   ]
  },
  {
   "cell_type": "code",
   "execution_count": 49,
   "metadata": {},
   "outputs": [
    {
     "name": "stdout",
     "output_type": "stream",
     "text": [
      "[1, 2, 5, 5, 7, 13, 14, 14, 14, 15, 19]\n"
     ]
    }
   ],
   "source": [
    "print(liste_triee)"
   ]
  },
  {
   "cell_type": "markdown",
   "metadata": {},
   "source": [
    "<html>\n",
    "    <body>\n",
    "        <h1 >Analyse du temps d'exécution de tri par fusion recurssif </h1>\n",
    "    </body>\n",
    "    </html>"
   ]
  },
  {
   "cell_type": "code",
   "execution_count": 50,
   "metadata": {},
   "outputs": [
    {
     "name": "stdout",
     "output_type": "stream",
     "text": [
      "[3837, 8431, 9537, 7814, 4307, 1532, 8546, 8442, 7375, 1335]\n",
      "[1335, 1532, 3837, 4307, 7375, 7814, 8431, 8442, 8546, 9537]\n",
      "0.007999420166015625\n",
      "0.12798738479614258\n"
     ]
    }
   ],
   "source": [
    "tableau1 = [random.randint(0,10000) for i in range(10)]\n",
    "tableau2 = [random.randint(0,10000) for i in range(1000)]\n",
    "tableau3 = [random.randint(0,10000) for i in range(10000)]\n",
    "def test(tab):\n",
    "#\"\"\" test de durée d’exécution \"\"\"\n",
    "    debut = time.time()\n",
    "    tri_fusion(tab)\n",
    "    fin = time.time()\n",
    "    return fin - debut\n",
    "print(tableau1)\n",
    "print( tri_fusion(tableau1))\n",
    "print(test(tableau2))\n",
    "print(test(tableau3))"
   ]
  },
  {
   "cell_type": "code",
   "execution_count": 51,
   "metadata": {},
   "outputs": [
    {
     "data": {
      "text/plain": [
       "5.100000180391362e-06"
      ]
     },
     "execution_count": 51,
     "metadata": {},
     "output_type": "execute_result"
    }
   ],
   "source": [
    "timeit.timeit( \"tri_fusion\",\n",
    "globals=globals(),\n",
    "number=100)"
   ]
  },
  {
   "cell_type": "code",
   "execution_count": 52,
   "metadata": {},
   "outputs": [
    {
     "data": {
      "text/plain": [
       "0.008595499999955791"
      ]
     },
     "execution_count": 52,
     "metadata": {},
     "output_type": "execute_result"
    }
   ],
   "source": [
    "timeit.timeit( \"tri_fusion\",\n",
    "globals=globals(),\n",
    "number=100000)"
   ]
  },
  {
   "cell_type": "code",
   "execution_count": 53,
   "metadata": {},
   "outputs": [
    {
     "data": {
      "text/plain": [
       "0.0008365999997295148"
      ]
     },
     "execution_count": 53,
     "metadata": {},
     "output_type": "execute_result"
    }
   ],
   "source": [
    "timeit.timeit( \"tri_fusion\",\n",
    "globals=globals(),\n",
    "number=20000)"
   ]
  },
  {
   "cell_type": "markdown",
   "metadata": {},
   "source": [
    "<html>\n",
    "    <body>\n",
    "        <h1 > La courbe de tri fusion </h1>\n",
    "    </body>\n",
    "    </html>"
   ]
  },
  {
   "cell_type": "code",
   "execution_count": 54,
   "metadata": {},
   "outputs": [],
   "source": [
    "from functools import partial\n",
    "x,y=[],[]\n",
    "for i in range(1,1000,10):\n",
    "    testTimer=timeit.Timer(partial(tri_fusion,randlist(i)))\n",
    "    t=testTimer.timeit(number=10)\n",
    "    x.append(i)\n",
    "    y.append(t)"
   ]
  },
  {
   "cell_type": "code",
   "execution_count": 80,
   "metadata": {},
   "outputs": [
    {
     "data": {
      "text/plain": [
       "[<matplotlib.lines.Line2D at 0x1dd594e9250>]"
      ]
     },
     "execution_count": 80,
     "metadata": {},
     "output_type": "execute_result"
    },
    {
     "data": {
      "image/png": "[encoded data removed]",
      "text/plain": [
       "<Figure size 432x288 with 1 Axes>"
      ]
     },
     "metadata": {
      "needs_background": "light"
     },
     "output_type": "display_data"
    }
   ],
   "source": [
    "plt.plot(x,y,marker='^')"
   ]
  },
  {
   "cell_type": "markdown",
   "metadata": {},
   "source": [
    "<html>\n",
    "    <body>\n",
    "        <h1 >Tri rapide </h1>\n",
    "    </body>\n",
    "    </html>"
   ]
  },
  {
   "cell_type": "code",
   "execution_count": 56,
   "metadata": {},
   "outputs": [],
   "source": [
    "def tri_rapide(L):\n",
    "    n = len(L)\n",
    "    pivot = L[n-1]\n",
    "    i = 0\n",
    "    j = 0\n",
    "    while j < n-1:\n",
    "        if L[j] <= pivot:\n",
    "            L[i],L[j] = L[j],L[i]\n",
    "            i += 1\n",
    "        j += 1\n",
    "    L[n-1],L[i] = L[i],L[n-1]"
   ]
  },
  {
   "cell_type": "code",
   "execution_count": 57,
   "metadata": {},
   "outputs": [],
   "source": [
    "liste = []\n",
    "for k in range(11):\n",
    "    liste.append(random.randint(0,40))\n"
   ]
  },
  {
   "cell_type": "code",
   "execution_count": 58,
   "metadata": {},
   "outputs": [
    {
     "name": "stdout",
     "output_type": "stream",
     "text": [
      "[15, 19, 8, 27, 38, 3, 0, 18, 27, 39, 24]\n"
     ]
    }
   ],
   "source": [
    "print(liste)"
   ]
  },
  {
   "cell_type": "code",
   "execution_count": 59,
   "metadata": {},
   "outputs": [],
   "source": [
    "tri_rapide (liste)"
   ]
  },
  {
   "cell_type": "code",
   "execution_count": 60,
   "metadata": {},
   "outputs": [
    {
     "name": "stdout",
     "output_type": "stream",
     "text": [
      "[15, 19, 8, 3, 0, 18, 24, 27, 27, 39, 38]\n"
     ]
    }
   ],
   "source": [
    "print(liste)"
   ]
  },
  {
   "cell_type": "markdown",
   "metadata": {},
   "source": [
    "<html>\n",
    "    <body>\n",
    "        <h1 >Analyse du temps d'exécution de tri rapide </h1>\n",
    "    </body>\n",
    "    </html>"
   ]
  },
  {
   "cell_type": "code",
   "execution_count": 61,
   "metadata": {},
   "outputs": [
    {
     "name": "stdout",
     "output_type": "stream",
     "text": [
      "[7542, 2709, 2414, 6036, 7275, 5696, 4169, 1787, 1325, 3262]\n",
      "None\n",
      "0.0\n",
      "0.007999658584594727\n"
     ]
    }
   ],
   "source": [
    "tableau1 = [random.randint(0,10000) for i in range(10)]\n",
    "tableau2 = [random.randint(0,10000) for i in range(1000)]\n",
    "tableau3 = [random.randint(0,10000) for i in range(10000)]\n",
    "def test(tab):\n",
    "#\"\"\" test de durée d’exécution \"\"\"\n",
    "    debut = time.time()\n",
    "    tri_rapide(tab)\n",
    "    fin = time.time()\n",
    "    return fin - debut\n",
    "print(tableau1)\n",
    "print(tri_rapide(tableau1))\n",
    "print(test(tableau2))\n",
    "print(test(tableau3))"
   ]
  },
  {
   "cell_type": "code",
   "execution_count": 62,
   "metadata": {},
   "outputs": [
    {
     "data": {
      "text/plain": [
       "1.4100000043981709e-05"
      ]
     },
     "execution_count": 62,
     "metadata": {},
     "output_type": "execute_result"
    }
   ],
   "source": [
    "timeit.timeit( \"tri_rapide\",\n",
    "globals=globals(),\n",
    "number=100)"
   ]
  },
  {
   "cell_type": "code",
   "execution_count": 63,
   "metadata": {},
   "outputs": [
    {
     "data": {
      "text/plain": [
       "0.009057300000222313"
      ]
     },
     "execution_count": 63,
     "metadata": {},
     "output_type": "execute_result"
    }
   ],
   "source": [
    "timeit.timeit( \"tri_rapide\",\n",
    "globals=globals(),\n",
    "number=100000)"
   ]
  },
  {
   "cell_type": "code",
   "execution_count": 64,
   "metadata": {},
   "outputs": [
    {
     "data": {
      "text/plain": [
       "0.002060000000255968"
      ]
     },
     "execution_count": 64,
     "metadata": {},
     "output_type": "execute_result"
    }
   ],
   "source": [
    "timeit.timeit( \"tri_rapide\",\n",
    "globals=globals(),\n",
    "number=20000)"
   ]
  },
  {
   "cell_type": "markdown",
   "metadata": {},
   "source": [
    "<html>\n",
    "    <body>\n",
    "        <h1 > La courbe de tri rapide </h1>\n",
    "    </body>\n",
    "    </html>"
   ]
  },
  {
   "cell_type": "code",
   "execution_count": 65,
   "metadata": {},
   "outputs": [],
   "source": [
    "from functools import partial\n",
    "x,y=[],[]\n",
    "for i in range(1,1000,10):\n",
    "    testTimer=timeit.Timer(partial(tri_rapide,randlist(i)))\n",
    "    t=testTimer.timeit(number=10)\n",
    "    x.append(i)\n",
    "    y.append(t)"
   ]
  },
  {
   "cell_type": "code",
   "execution_count": 81,
   "metadata": {},
   "outputs": [
    {
     "data": {
      "text/plain": [
       "[<matplotlib.lines.Line2D at 0x1dd595393d0>]"
      ]
     },
     "execution_count": 81,
     "metadata": {},
     "output_type": "execute_result"
    },
    {
     "data": {
      "image/png": "[encoded data removed]",
      "text/plain": [
       "<Figure size 432x288 with 1 Axes>"
      ]
     },
     "metadata": {
      "needs_background": "light"
     },
     "output_type": "display_data"
    }
   ],
   "source": [
    "plt.plot(x,y,marker='p')"
   ]
  },
  {
   "cell_type": "markdown",
   "metadata": {},
   "source": [
    "<html>\n",
    "    <body>\n",
    "        <h1 >Tri rapide recursif </h1>\n",
    "    </body>\n",
    "    </html>"
   ]
  },
  {
   "cell_type": "code",
   "execution_count": 67,
   "metadata": {},
   "outputs": [],
   "source": [
    "def rapide(L,debut,fin):\n",
    "    pivot = L[fin]\n",
    "    i = debut\n",
    "    j = debut\n",
    "    while j < fin:\n",
    "        if L[j] <= pivot:\n",
    "            L[i],L[j] = L[j],L[i]\n",
    "            i += 1\n",
    "        j += 1\n",
    "    L[fin],L[i] = L[i],L[fin]\n",
    "    return i"
   ]
  },
  {
   "cell_type": "code",
   "execution_count": 68,
   "metadata": {},
   "outputs": [],
   "source": [
    "def tri_rapide_recursif(L,debut,fin):\n",
    "    if debut < fin:\n",
    "        i = rapide(L,debut,fin)\n",
    "        tri_rapide_recursif(L,debut,i-1)\n",
    "        tri_rapide_recursif(L,i+1,fin)\n",
    "                   "
   ]
  },
  {
   "cell_type": "code",
   "execution_count": 69,
   "metadata": {},
   "outputs": [],
   "source": [
    "def tri_Rapide(liste):\n",
    "    L = list(liste)\n",
    "    tri_rapide_recursif(L,0,len(L)-1)\n",
    "    return L\n",
    "liste = []\n",
    "for k in range(11):\n",
    "    liste.append(random.randint(0,40))\n",
    "liste_triee = tri_Rapide(liste)"
   ]
  },
  {
   "cell_type": "code",
   "execution_count": 70,
   "metadata": {},
   "outputs": [
    {
     "name": "stdout",
     "output_type": "stream",
     "text": [
      "[0, 21, 9, 17, 14, 39, 19, 27, 4, 12, 12]\n"
     ]
    }
   ],
   "source": [
    "print(liste)"
   ]
  },
  {
   "cell_type": "code",
   "execution_count": 71,
   "metadata": {},
   "outputs": [
    {
     "name": "stdout",
     "output_type": "stream",
     "text": [
      "[0, 4, 9, 12, 12, 14, 17, 19, 21, 27, 39]\n"
     ]
    }
   ],
   "source": [
    "print(liste_triee)"
   ]
  },
  {
   "cell_type": "markdown",
   "metadata": {},
   "source": [
    "<html>\n",
    "    <body>\n",
    "        <h1 >Analyse du temps d'exécution de tri rapide recursif </h1>\n",
    "    </body>\n",
    "    </html>"
   ]
  },
  {
   "cell_type": "code",
   "execution_count": 72,
   "metadata": {},
   "outputs": [
    {
     "name": "stdout",
     "output_type": "stream",
     "text": [
      "[2673, 7384, 8267, 6605, 2376, 7139, 1197, 2591, 2606, 3253]\n",
      "[1197, 2376, 2591, 2606, 2673, 3253, 6605, 7139, 7384, 8267]\n",
      "0.007997751235961914\n",
      "0.07201266288757324\n"
     ]
    }
   ],
   "source": [
    "tableau1 = [random.randint(0,10000) for i in range(10)]\n",
    "tableau2 = [random.randint(0,10000) for i in range(1000)]\n",
    "tableau3 = [random.randint(0,10000) for i in range(10000)]\n",
    "def test(tab):\n",
    "#\"\"\" test de durée d’exécution \"\"\"\n",
    "    debut = time.time()\n",
    "    tri_Rapide(tab)\n",
    "    fin = time.time()\n",
    "    return fin - debut\n",
    "print(tableau1)\n",
    "print(tri_Rapide(tableau1))\n",
    "print(test(tableau2))\n",
    "print(test(tableau3))"
   ]
  },
  {
   "cell_type": "code",
   "execution_count": 73,
   "metadata": {},
   "outputs": [
    {
     "data": {
      "text/plain": [
       "1.0100000054080738e-05"
      ]
     },
     "execution_count": 73,
     "metadata": {},
     "output_type": "execute_result"
    }
   ],
   "source": [
    "timeit.timeit( \"tri_Rapide\",\n",
    "globals=globals(),\n",
    "number=100)"
   ]
  },
  {
   "cell_type": "code",
   "execution_count": 74,
   "metadata": {},
   "outputs": [
    {
     "data": {
      "text/plain": [
       "0.006855800000266754"
      ]
     },
     "execution_count": 74,
     "metadata": {},
     "output_type": "execute_result"
    }
   ],
   "source": [
    "timeit.timeit( \"tri_Rapide\",\n",
    "globals=globals(),\n",
    "number=100000)"
   ]
  },
  {
   "cell_type": "code",
   "execution_count": 75,
   "metadata": {},
   "outputs": [
    {
     "data": {
      "text/plain": [
       "0.0011804000000665837"
      ]
     },
     "execution_count": 75,
     "metadata": {},
     "output_type": "execute_result"
    }
   ],
   "source": [
    "timeit.timeit( \"tri_Rapide\",\n",
    "globals=globals(),\n",
    "number=20000)"
   ]
  },
  {
   "cell_type": "markdown",
   "metadata": {},
   "source": [
    "<html>\n",
    "    <body>\n",
    "        <h1 > La courbe de tri rapide recursif </h1>\n",
    "    </body>\n",
    "    </html>"
   ]
  },
  {
   "cell_type": "code",
   "execution_count": 76,
   "metadata": {},
   "outputs": [],
   "source": [
    "from functools import partial\n",
    "x,y=[],[]\n",
    "for i in range(1,1000,10):\n",
    "    testTimer=timeit.Timer(partial(tri_Rapide,randlist(i)))\n",
    "    t=testTimer.timeit(number=10)\n",
    "    x.append(i)\n",
    "    y.append(t)"
   ]
  },
  {
   "cell_type": "code",
   "execution_count": 82,
   "metadata": {},
   "outputs": [
    {
     "data": {
      "text/plain": [
       "[<matplotlib.lines.Line2D at 0x1dd593392e0>]"
      ]
     },
     "execution_count": 82,
     "metadata": {},
     "output_type": "execute_result"
    },
    {
     "data": {
      "image/png": "[encoded data removed]",
      "text/plain": [
       "<Figure size 432x288 with 1 Axes>"
      ]
     },
     "metadata": {
      "needs_background": "light"
     },
     "output_type": "display_data"
    }
   ],
   "source": [
    "plt.plot(x,y,marker='1')"
   ]
  },
  {
   "cell_type": "code",
   "execution_count": null,
   "metadata": {},
   "outputs": [],
   "source": []
  }
 ],
 "metadata": {
  "kernelspec": {
   "display_name": "Python 3",
   "language": "python",
   "name": "python3"
  },
  "language_info": {
   "codemirror_mode": {
    "name": "ipython",
    "version": 3
   },
   "file_extension": ".py",
   "mimetype": "text/x-python",
   "name": "python",
   "nbconvert_exporter": "python",
   "pygments_lexer": "ipython3",
   "version": "3.8.3"
  }
 },
 "nbformat": 4,
 "nbformat_minor": 4
}
