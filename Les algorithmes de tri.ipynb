{
 "cells": [
  {
   "cell_type": "code",
   "execution_count": 1,
   "metadata": {},
   "outputs": [],
   "source": [
    "import random\n",
    "import time\n",
    "import numpy \n",
    "import timeit\n",
    "import matplotlib.pyplot as pl\n"
   ]
  },
  {
   "cell_type": "markdown",
   "metadata": {},
   "source": [
    "<html>\n",
    "    <body>\n",
    "        <h1 >Tri par Selection</h1>\n",
    "    </body>\n",
    "    </html>"
   ]
  },
  {
   "cell_type": "code",
   "execution_count": 2,
   "metadata": {},
   "outputs": [],
   "source": [
    "def tri_selection(tab):\n",
    "   for i in range(len(tab)):\n",
    "      # Trouver le min\n",
    "       min = i\n",
    "       for j in range(i+1, len(tab)):\n",
    "           if tab[min] > tab[j]:\n",
    "               min = j\n",
    "                \n",
    "       tmp = tab[i]\n",
    "       tab[i] = tab[min]\n",
    "       tab[min] = tmp\n",
    "   return tab"
   ]
  },
  {
   "cell_type": "code",
   "execution_count": 3,
   "metadata": {},
   "outputs": [],
   "source": [
    "tab = [98, 22, 15, 32, 2, 74, 63, 70]"
   ]
  },
  {
   "cell_type": "code",
   "execution_count": 4,
   "metadata": {},
   "outputs": [
    {
     "data": {
      "text/plain": [
       "[2, 15, 22, 32, 63, 70, 74, 98]"
      ]
     },
     "execution_count": 4,
     "metadata": {},
     "output_type": "execute_result"
    }
   ],
   "source": [
    "tri_selection(tab)"
   ]
  },
  {
   "cell_type": "markdown",
   "metadata": {},
   "source": [
    "<html>\n",
    "    <body>\n",
    "        <h1 >Analyse du temps d'exécution de tri par selection </h1>\n",
    "    </body>\n",
    "    </html>"
   ]
  },
  {
   "cell_type": "code",
   "execution_count": 5,
   "metadata": {},
   "outputs": [
    {
     "name": "stdout",
     "output_type": "stream",
     "text": [
      "[5273, 3142, 4087, 9060, 7064, 3975, 669, 8280, 9368, 2385]\n",
      "[669, 2385, 3142, 3975, 4087, 5273, 7064, 8280, 9060, 9368]\n",
      "0.06399750709533691\n",
      "6.378432273864746\n"
     ]
    }
   ],
   "source": [
    "tableau1 = [random.randint(0,10000) for i in range(10)]\n",
    "tableau2 = [random.randint(0,10000) for i in range(1000)]\n",
    "tableau3 = [random.randint(0,10000) for i in range(10000)]\n",
    "def test(tab):\n",
    "#test de durée d’exécution \"\"\"\n",
    "    debut = time.time()\n",
    "    tri_selection(tab)\n",
    "    fin = time.time()\n",
    "    return fin - debut\n",
    "print(tableau1)\n",
    "print(tri_selection(tableau1))\n",
    "print(test(tableau2))\n",
    "print(test(tableau3))"
   ]
  },
  {
   "cell_type": "code",
   "execution_count": 6,
   "metadata": {},
   "outputs": [
    {
     "data": {
      "text/plain": [
       "5.099999999202964e-06"
      ]
     },
     "execution_count": 6,
     "metadata": {},
     "output_type": "execute_result"
    }
   ],
   "source": [
    "timeit.timeit( \"tri_selection\",\n",
    "globals=globals(),\n",
    "number=100)\n"
   ]
  },
  {
   "cell_type": "code",
   "execution_count": 7,
   "metadata": {},
   "outputs": [
    {
     "data": {
      "text/plain": [
       "0.011109599999999276"
      ]
     },
     "execution_count": 7,
     "metadata": {},
     "output_type": "execute_result"
    }
   ],
   "source": [
    "timeit.timeit( \"tri_selection\",\n",
    "globals=globals(),\n",
    "number=100000)"
   ]
  },
  {
   "cell_type": "code",
   "execution_count": 8,
   "metadata": {},
   "outputs": [
    {
     "data": {
      "text/plain": [
       "0.0017189000000001897"
      ]
     },
     "execution_count": 8,
     "metadata": {},
     "output_type": "execute_result"
    }
   ],
   "source": [
    "timeit.timeit( \"tri_selection\",\n",
    "globals=globals(),\n",
    "number=20000)"
   ]
  },
  {
   "cell_type": "markdown",
   "metadata": {},
   "source": [
    "<html>\n",
    "    <body>\n",
    "        <h1 >Tri à bulle </h1>\n",
    "    </body>\n",
    "    </html>"
   ]
  },
  {
   "cell_type": "code",
   "execution_count": 9,
   "metadata": {},
   "outputs": [],
   "source": [
    "def tri_bulle(tab):\n",
    "    n = len(tab)\n",
    "    # Traverser tous les éléments du tableau\n",
    "    for i in range(n):\n",
    "        for j in range(0, n-i-1):\n",
    "            # échanger si l'élément trouvé est plus grand que le suivant\n",
    "            if tab[j] > tab[j+1] :\n",
    "                tab[j], tab[j+1] = tab[j+1], tab[j]\n",
    "    return tab           "
   ]
  },
  {
   "cell_type": "code",
   "execution_count": 10,
   "metadata": {},
   "outputs": [],
   "source": [
    "# Programme principale pour tester le code ci-dessus\n",
    "tab = [77, 22, 5, 20, 2, 74, 63, 70]"
   ]
  },
  {
   "cell_type": "code",
   "execution_count": 11,
   "metadata": {},
   "outputs": [
    {
     "data": {
      "text/plain": [
       "[2, 5, 20, 22, 63, 70, 74, 77]"
      ]
     },
     "execution_count": 11,
     "metadata": {},
     "output_type": "execute_result"
    }
   ],
   "source": [
    "tri_bulle(tab)"
   ]
  },
  {
   "cell_type": "markdown",
   "metadata": {},
   "source": [
    "<html>\n",
    "    <body>\n",
    "        <h1 >Analyse du temps d'exécution de tri a bulle </h1>\n",
    "    </body>\n",
    "    </html>"
   ]
  },
  {
   "cell_type": "code",
   "execution_count": 12,
   "metadata": {},
   "outputs": [
    {
     "name": "stdout",
     "output_type": "stream",
     "text": [
      "[987, 5252, 3991, 2912, 3139, 9602, 9016, 6453, 2481, 3980]\n",
      "[987, 2481, 2912, 3139, 3980, 3991, 5252, 6453, 9016, 9602]\n",
      "0.14400434494018555\n",
      "17.075315713882446\n"
     ]
    }
   ],
   "source": [
    "tableau1 = [random.randint(0,10000) for i in range(10)]\n",
    "tableau2 = [random.randint(0,10000) for i in range(1000)]\n",
    "tableau3 = [random.randint(0,10000) for i in range(10000)]\n",
    "def test(tab):\n",
    "#test de durée d’exécution \"\"\"\n",
    "    debut = time.time()\n",
    "    tri_bulle(tab)\n",
    "    fin = time.time()\n",
    "    return fin - debut\n",
    "print(tableau1)\n",
    "print(tri_bulle(tableau1))\n",
    "print(test(tableau2))\n",
    "print(test(tableau3))"
   ]
  },
  {
   "cell_type": "code",
   "execution_count": 13,
   "metadata": {},
   "outputs": [
    {
     "data": {
      "text/plain": [
       "4.8000000028025624e-06"
      ]
     },
     "execution_count": 13,
     "metadata": {},
     "output_type": "execute_result"
    }
   ],
   "source": [
    "timeit.timeit( \"tri_bulle\",\n",
    "globals=globals(),\n",
    "number=100)"
   ]
  },
  {
   "cell_type": "code",
   "execution_count": 14,
   "metadata": {},
   "outputs": [
    {
     "data": {
      "text/plain": [
       "0.009568800000000266"
      ]
     },
     "execution_count": 14,
     "metadata": {},
     "output_type": "execute_result"
    }
   ],
   "source": [
    "timeit.timeit( \"tri_bulle\",\n",
    "globals=globals(),\n",
    "number=100000)"
   ]
  },
  {
   "cell_type": "code",
   "execution_count": 15,
   "metadata": {},
   "outputs": [
    {
     "data": {
      "text/plain": [
       "0.0024882999999995548"
      ]
     },
     "execution_count": 15,
     "metadata": {},
     "output_type": "execute_result"
    }
   ],
   "source": [
    "timeit.timeit( \"tri_bulle\",\n",
    "globals=globals(),\n",
    "number=20000)"
   ]
  },
  {
   "cell_type": "markdown",
   "metadata": {},
   "source": [
    "<html>\n",
    "    <body>\n",
    "        <h1 >Tri par insertion</h1>\n",
    "    </body>\n",
    "    </html>\n",
    "    "
   ]
  },
  {
   "cell_type": "code",
   "execution_count": 16,
   "metadata": {},
   "outputs": [],
   "source": [
    "def tri_insertion(liste):\n",
    "    L = list(liste) \n",
    "    N = len(L)\n",
    "    for n in range(1,N):\n",
    "        cle = L[n]\n",
    "        j = n-1\n",
    "        while j>=0 and L[j] > cle:\n",
    "            L[j+1] = L[j] # decalage\n",
    "            j = j-1\n",
    "        L[j+1] = cle\n",
    "    return L\n",
    "    \n",
    "liste = []\n",
    "for k in range(10):\n",
    "    liste.append(random.randint(0,20))\n",
    "liste_triee = tri_insertion(liste)\n",
    "                      "
   ]
  },
  {
   "cell_type": "code",
   "execution_count": 17,
   "metadata": {},
   "outputs": [
    {
     "name": "stdout",
     "output_type": "stream",
     "text": [
      "[2, 19, 10, 18, 12, 18, 16, 1, 1, 17]\n"
     ]
    }
   ],
   "source": [
    "print(liste)\n"
   ]
  },
  {
   "cell_type": "code",
   "execution_count": 18,
   "metadata": {},
   "outputs": [
    {
     "name": "stdout",
     "output_type": "stream",
     "text": [
      "[1, 1, 2, 10, 12, 16, 17, 18, 18, 19]\n"
     ]
    }
   ],
   "source": [
    "print(liste_triee)"
   ]
  },
  {
   "cell_type": "markdown",
   "metadata": {},
   "source": [
    "<html>\n",
    "    <body>\n",
    "        <h1 >Analyse du temps d'exécution de tri insertion </h1>\n",
    "    </body>\n",
    "    </html>"
   ]
  },
  {
   "cell_type": "code",
   "execution_count": 19,
   "metadata": {},
   "outputs": [
    {
     "name": "stdout",
     "output_type": "stream",
     "text": [
      "[1574, 7502, 3899, 7206, 5083, 7035, 9611, 245, 8611, 3653]\n",
      "[245, 1574, 3653, 3899, 5083, 7035, 7206, 7502, 8611, 9611]\n",
      "0.10040879249572754\n",
      "8.763572692871094\n"
     ]
    }
   ],
   "source": [
    "tableau1 = [random.randint(0,10000) for i in range(10)]\n",
    "tableau2 = [random.randint(0,10000) for i in range(1000)]\n",
    "tableau3 = [random.randint(0,10000) for i in range(10000)]\n",
    "def test(tab):\n",
    "#\"\"\" test de durée d’exécution \"\"\"\n",
    "    debut = time.time()\n",
    "    tri_insertion(tab)\n",
    "    fin = time.time()\n",
    "    return fin - debut\n",
    "print(tableau1)\n",
    "print(tri_insertion(tableau1))\n",
    "print(test(tableau2))\n",
    "print(test(tableau3))"
   ]
  },
  {
   "cell_type": "code",
   "execution_count": 20,
   "metadata": {},
   "outputs": [
    {
     "data": {
      "text/plain": [
       "1.139999999821839e-05"
      ]
     },
     "execution_count": 20,
     "metadata": {},
     "output_type": "execute_result"
    }
   ],
   "source": [
    "timeit.timeit( \"tri_insertion\",\n",
    "globals=globals(),\n",
    "number=100)"
   ]
  },
  {
   "cell_type": "code",
   "execution_count": 21,
   "metadata": {},
   "outputs": [
    {
     "data": {
      "text/plain": [
       "0.007491700000002766"
      ]
     },
     "execution_count": 21,
     "metadata": {},
     "output_type": "execute_result"
    }
   ],
   "source": [
    "timeit.timeit( \"tri_insertion\",\n",
    "globals=globals(),\n",
    "number=100000)"
   ]
  },
  {
   "cell_type": "code",
   "execution_count": 22,
   "metadata": {},
   "outputs": [
    {
     "data": {
      "text/plain": [
       "0.0022586999999987256"
      ]
     },
     "execution_count": 22,
     "metadata": {},
     "output_type": "execute_result"
    }
   ],
   "source": [
    "timeit.timeit( \"tri_insertion\",\n",
    "globals=globals(),\n",
    "number=20000)"
   ]
  },
  {
   "cell_type": "markdown",
   "metadata": {},
   "source": [
    "<html>\n",
    "    <body>\n",
    "        <h1 >Tri par fusion</h1>\n",
    "    </body>\n",
    "    </html>"
   ]
  },
  {
   "cell_type": "code",
   "execution_count": 23,
   "metadata": {},
   "outputs": [],
   "source": [
    "def fusion(L1,L2):\n",
    "    n1 = len(L1)\n",
    "    n2 = len(L2)\n",
    "    L12 = [0]*(n1+n2)\n",
    "    i1 = 0\n",
    "    i2 = 0\n",
    "    i = 0\n",
    "    while i1<n1 and i2<n2:\n",
    "        if L1[i1] < L2[i2]:\n",
    "            L12[i] = L1[i1]\n",
    "            i1 += 1\n",
    "        else:\n",
    "            L12[i] = L2[i2]\n",
    "            i2 += 1\n",
    "        i += 1\n",
    "    while i1<n1:\n",
    "        L12[i] = L1[i1]\n",
    "        i1 += 1\n",
    "        i += 1\n",
    "    while i2<n2:\n",
    "        L12[i] = L2[i2]\n",
    "        i2 += 1\n",
    "        i += 1 \n",
    "    return L12"
   ]
  },
  {
   "cell_type": "code",
   "execution_count": 24,
   "metadata": {},
   "outputs": [],
   "source": [
    "L = fusion([1,6,10],[0,7,8,9])"
   ]
  },
  {
   "cell_type": "code",
   "execution_count": 25,
   "metadata": {},
   "outputs": [
    {
     "name": "stdout",
     "output_type": "stream",
     "text": [
      "[0, 1, 6, 7, 8, 9, 10]\n"
     ]
    }
   ],
   "source": [
    "print(L)"
   ]
  },
  {
   "cell_type": "markdown",
   "metadata": {},
   "source": [
    "<html>\n",
    "    <body>\n",
    "        <h1 >Analyse du temps d'exécution de tri par fusion </h1>\n",
    "    </body>\n",
    "    </html>"
   ]
  },
  {
   "cell_type": "code",
   "execution_count": 26,
   "metadata": {},
   "outputs": [
    {
     "data": {
      "text/plain": [
       "4.799999999249849e-06"
      ]
     },
     "execution_count": 26,
     "metadata": {},
     "output_type": "execute_result"
    }
   ],
   "source": [
    "timeit.timeit( \"fusion\",\n",
    "globals=globals(),\n",
    "number=100)"
   ]
  },
  {
   "cell_type": "code",
   "execution_count": 27,
   "metadata": {},
   "outputs": [
    {
     "data": {
      "text/plain": [
       "0.006470600000000104"
      ]
     },
     "execution_count": 27,
     "metadata": {},
     "output_type": "execute_result"
    }
   ],
   "source": [
    "timeit.timeit( \"fusion\",\n",
    "globals=globals(),\n",
    "number=100000)"
   ]
  },
  {
   "cell_type": "code",
   "execution_count": 28,
   "metadata": {},
   "outputs": [
    {
     "data": {
      "text/plain": [
       "0.0021185000000016885"
      ]
     },
     "execution_count": 28,
     "metadata": {},
     "output_type": "execute_result"
    }
   ],
   "source": [
    "timeit.timeit( \"fusion\",\n",
    "globals=globals(),\n",
    "number=20000)"
   ]
  },
  {
   "cell_type": "markdown",
   "metadata": {},
   "source": [
    "<html>\n",
    "    <body>\n",
    "        <h1 >Tri par fusion reccursif</h1>\n",
    "    </body>\n",
    "    </html>"
   ]
  },
  {
   "cell_type": "code",
   "execution_count": 29,
   "metadata": {},
   "outputs": [],
   "source": [
    "def tri_fusion_recursif(L):\n",
    "    n = len(L)\n",
    "    if n > 1:\n",
    "        p = int(n/2)\n",
    "        L1 = L[0:p]\n",
    "        L2 = L[p:n]\n",
    "        tri_fusion_recursif(L1)\n",
    "        tri_fusion_recursif(L2)\n",
    "        L[:] = fusion(L1,L2)\n",
    "    \n",
    "def tri_fusion(L):\n",
    "    M = list(L)\n",
    "    tri_fusion_recursif(M)\n",
    "    return M\n",
    "                  \n",
    "liste = []\n",
    "for k in range(11):\n",
    "    liste.append(random.randint(0,20))\n",
    "liste_triee = tri_fusion(liste)\n",
    "                  "
   ]
  },
  {
   "cell_type": "code",
   "execution_count": 30,
   "metadata": {},
   "outputs": [
    {
     "name": "stdout",
     "output_type": "stream",
     "text": [
      "[14, 3, 14, 10, 1, 9, 2, 2, 4, 10, 13]\n"
     ]
    }
   ],
   "source": [
    "print(liste)"
   ]
  },
  {
   "cell_type": "code",
   "execution_count": 31,
   "metadata": {},
   "outputs": [
    {
     "name": "stdout",
     "output_type": "stream",
     "text": [
      "[1, 2, 2, 3, 4, 9, 10, 10, 13, 14, 14]\n"
     ]
    }
   ],
   "source": [
    "print(liste_triee)"
   ]
  },
  {
   "cell_type": "markdown",
   "metadata": {},
   "source": [
    "<html>\n",
    "    <body>\n",
    "        <h1 >Analyse du temps d'exécution de tri par fusion recurssif </h1>\n",
    "    </body>\n",
    "    </html>"
   ]
  },
  {
   "cell_type": "code",
   "execution_count": 32,
   "metadata": {},
   "outputs": [
    {
     "name": "stdout",
     "output_type": "stream",
     "text": [
      "[4605, 3549, 6921, 4392, 8588, 3546, 8741, 3438, 7826, 5942]\n",
      "[3438, 3546, 3549, 4392, 4605, 5942, 6921, 7826, 8588, 8741]\n",
      "0.008015632629394531\n",
      "0.08797430992126465\n"
     ]
    }
   ],
   "source": [
    "tableau1 = [random.randint(0,10000) for i in range(10)]\n",
    "tableau2 = [random.randint(0,10000) for i in range(1000)]\n",
    "tableau3 = [random.randint(0,10000) for i in range(10000)]\n",
    "def test(tab):\n",
    "#\"\"\" test de durée d’exécution \"\"\"\n",
    "    debut = time.time()\n",
    "    tri_fusion(tab)\n",
    "    fin = time.time()\n",
    "    return fin - debut\n",
    "print(tableau1)\n",
    "print( tri_fusion(tableau1))\n",
    "print(test(tableau2))\n",
    "print(test(tableau3))"
   ]
  },
  {
   "cell_type": "code",
   "execution_count": 33,
   "metadata": {},
   "outputs": [
    {
     "data": {
      "text/plain": [
       "9.000000005698894e-06"
      ]
     },
     "execution_count": 33,
     "metadata": {},
     "output_type": "execute_result"
    }
   ],
   "source": [
    "timeit.timeit( \"tri_fusion\",\n",
    "globals=globals(),\n",
    "number=100)"
   ]
  },
  {
   "cell_type": "code",
   "execution_count": 34,
   "metadata": {},
   "outputs": [
    {
     "data": {
      "text/plain": [
       "0.00896720000000073"
      ]
     },
     "execution_count": 34,
     "metadata": {},
     "output_type": "execute_result"
    }
   ],
   "source": [
    "timeit.timeit( \"tri_fusion\",\n",
    "globals=globals(),\n",
    "number=100000)"
   ]
  },
  {
   "cell_type": "code",
   "execution_count": 35,
   "metadata": {},
   "outputs": [
    {
     "data": {
      "text/plain": [
       "0.0008466000000026952"
      ]
     },
     "execution_count": 35,
     "metadata": {},
     "output_type": "execute_result"
    }
   ],
   "source": [
    "timeit.timeit( \"tri_fusion\",\n",
    "globals=globals(),\n",
    "number=20000)"
   ]
  },
  {
   "cell_type": "markdown",
   "metadata": {},
   "source": [
    "<html>\n",
    "    <body>\n",
    "        <h1 >Tri rapide </h1>\n",
    "    </body>\n",
    "    </html>"
   ]
  },
  {
   "cell_type": "code",
   "execution_count": 36,
   "metadata": {},
   "outputs": [],
   "source": [
    "def tri_rapide(L):\n",
    "    n = len(L)\n",
    "    pivot = L[n-1]\n",
    "    i = 0\n",
    "    j = 0\n",
    "    while j < n-1:\n",
    "        if L[j] <= pivot:\n",
    "            L[i],L[j] = L[j],L[i]\n",
    "            i += 1\n",
    "        j += 1\n",
    "    L[n-1],L[i] = L[i],L[n-1]"
   ]
  },
  {
   "cell_type": "code",
   "execution_count": 37,
   "metadata": {},
   "outputs": [],
   "source": [
    "liste = []\n",
    "for k in range(11):\n",
    "    liste.append(random.randint(0,40))\n"
   ]
  },
  {
   "cell_type": "code",
   "execution_count": 38,
   "metadata": {},
   "outputs": [
    {
     "name": "stdout",
     "output_type": "stream",
     "text": [
      "[17, 35, 15, 17, 13, 27, 40, 6, 26, 31, 6]\n"
     ]
    }
   ],
   "source": [
    "print(liste)"
   ]
  },
  {
   "cell_type": "code",
   "execution_count": 39,
   "metadata": {},
   "outputs": [],
   "source": [
    "tri_rapide (liste)"
   ]
  },
  {
   "cell_type": "code",
   "execution_count": 40,
   "metadata": {},
   "outputs": [
    {
     "name": "stdout",
     "output_type": "stream",
     "text": [
      "[6, 6, 15, 17, 13, 27, 40, 17, 26, 31, 35]\n"
     ]
    }
   ],
   "source": [
    "print(liste)"
   ]
  },
  {
   "cell_type": "markdown",
   "metadata": {},
   "source": [
    "<html>\n",
    "    <body>\n",
    "        <h1 >Analyse du temps d'exécution de tri rapide </h1>\n",
    "    </body>\n",
    "    </html>"
   ]
  },
  {
   "cell_type": "code",
   "execution_count": 41,
   "metadata": {},
   "outputs": [
    {
     "name": "stdout",
     "output_type": "stream",
     "text": [
      "[4508, 2099, 1674, 9323, 7576, 3619, 779, 3065, 4600, 7298]\n",
      "None\n",
      "0.0\n",
      "0.008016347885131836\n"
     ]
    }
   ],
   "source": [
    "tableau1 = [random.randint(0,10000) for i in range(10)]\n",
    "tableau2 = [random.randint(0,10000) for i in range(1000)]\n",
    "tableau3 = [random.randint(0,10000) for i in range(10000)]\n",
    "def test(tab):\n",
    "#\"\"\" test de durée d’exécution \"\"\"\n",
    "    debut = time.time()\n",
    "    tri_rapide(tab)\n",
    "    fin = time.time()\n",
    "    return fin - debut\n",
    "print(tableau1)\n",
    "print(tri_rapide(tableau1))\n",
    "print(test(tableau2))\n",
    "print(test(tableau3))"
   ]
  },
  {
   "cell_type": "code",
   "execution_count": 42,
   "metadata": {},
   "outputs": [
    {
     "data": {
      "text/plain": [
       "5.50000000032469e-06"
      ]
     },
     "execution_count": 42,
     "metadata": {},
     "output_type": "execute_result"
    }
   ],
   "source": [
    "timeit.timeit( \"tri_rapide\",\n",
    "globals=globals(),\n",
    "number=100)"
   ]
  },
  {
   "cell_type": "code",
   "execution_count": 43,
   "metadata": {},
   "outputs": [
    {
     "data": {
      "text/plain": [
       "0.010982300000001999"
      ]
     },
     "execution_count": 43,
     "metadata": {},
     "output_type": "execute_result"
    }
   ],
   "source": [
    "timeit.timeit( \"tri_rapide\",\n",
    "globals=globals(),\n",
    "number=100000)"
   ]
  },
  {
   "cell_type": "code",
   "execution_count": 44,
   "metadata": {},
   "outputs": [
    {
     "data": {
      "text/plain": [
       "0.002804499999996324"
      ]
     },
     "execution_count": 44,
     "metadata": {},
     "output_type": "execute_result"
    }
   ],
   "source": [
    "timeit.timeit( \"tri_rapide\",\n",
    "globals=globals(),\n",
    "number=20000)"
   ]
  },
  {
   "cell_type": "markdown",
   "metadata": {},
   "source": [
    "<html>\n",
    "    <body>\n",
    "        <h1 >Tri rapide recursif </h1>\n",
    "    </body>\n",
    "    </html>"
   ]
  },
  {
   "cell_type": "code",
   "execution_count": 45,
   "metadata": {},
   "outputs": [],
   "source": [
    "def rapide(L,debut,fin):\n",
    "    pivot = L[fin]\n",
    "    i = debut\n",
    "    j = debut\n",
    "    while j < fin:\n",
    "        if L[j] <= pivot:\n",
    "            L[i],L[j] = L[j],L[i]\n",
    "            i += 1\n",
    "        j += 1\n",
    "    L[fin],L[i] = L[i],L[fin]\n",
    "    return i"
   ]
  },
  {
   "cell_type": "code",
   "execution_count": 46,
   "metadata": {},
   "outputs": [],
   "source": [
    "def tri_rapide_recursif(L,debut,fin):\n",
    "    if debut < fin:\n",
    "        i = rapide(L,debut,fin)\n",
    "        tri_rapide_recursif(L,debut,i-1)\n",
    "        tri_rapide_recursif(L,i+1,fin)\n",
    "                   "
   ]
  },
  {
   "cell_type": "code",
   "execution_count": 47,
   "metadata": {},
   "outputs": [],
   "source": [
    "def tri_Rapide(liste):\n",
    "    L = list(liste)\n",
    "    tri_rapide_recursif(L,0,len(L)-1)\n",
    "    return L\n",
    "liste = []\n",
    "for k in range(11):\n",
    "    liste.append(random.randint(0,40))\n",
    "liste_triee = tri_Rapide(liste)"
   ]
  },
  {
   "cell_type": "code",
   "execution_count": 48,
   "metadata": {},
   "outputs": [
    {
     "name": "stdout",
     "output_type": "stream",
     "text": [
      "[0, 4, 40, 11, 26, 6, 19, 18, 17, 1, 4]\n"
     ]
    }
   ],
   "source": [
    "print(liste)"
   ]
  },
  {
   "cell_type": "code",
   "execution_count": 49,
   "metadata": {},
   "outputs": [
    {
     "name": "stdout",
     "output_type": "stream",
     "text": [
      "[0, 1, 4, 4, 6, 11, 17, 18, 19, 26, 40]\n"
     ]
    }
   ],
   "source": [
    "print(liste_triee)"
   ]
  },
  {
   "cell_type": "markdown",
   "metadata": {},
   "source": [
    "<html>\n",
    "    <body>\n",
    "        <h1 >Analyse du temps d'exécution de tri rapide recursif </h1>\n",
    "    </body>\n",
    "    </html>"
   ]
  },
  {
   "cell_type": "code",
   "execution_count": 50,
   "metadata": {},
   "outputs": [
    {
     "name": "stdout",
     "output_type": "stream",
     "text": [
      "[8746, 2013, 4335, 6243, 8349, 5308, 9717, 5141, 8937, 6554]\n",
      "[2013, 4335, 5141, 5308, 6243, 6554, 8349, 8746, 8937, 9717]\n",
      "0.007990598678588867\n",
      "0.07199549674987793\n"
     ]
    }
   ],
   "source": [
    "tableau1 = [random.randint(0,10000) for i in range(10)]\n",
    "tableau2 = [random.randint(0,10000) for i in range(1000)]\n",
    "tableau3 = [random.randint(0,10000) for i in range(10000)]\n",
    "def test(tab):\n",
    "#\"\"\" test de durée d’exécution \"\"\"\n",
    "    debut = time.time()\n",
    "    tri_Rapide(tab)\n",
    "    fin = time.time()\n",
    "    return fin - debut\n",
    "print(tableau1)\n",
    "print(tri_Rapide(tableau1))\n",
    "print(test(tableau2))\n",
    "print(test(tableau3))"
   ]
  },
  {
   "cell_type": "code",
   "execution_count": 51,
   "metadata": {},
   "outputs": [
    {
     "data": {
      "text/plain": [
       "8.299999997518626e-06"
      ]
     },
     "execution_count": 51,
     "metadata": {},
     "output_type": "execute_result"
    }
   ],
   "source": [
    "timeit.timeit( \"tri_Rapide\",\n",
    "globals=globals(),\n",
    "number=100)"
   ]
  },
  {
   "cell_type": "code",
   "execution_count": 52,
   "metadata": {},
   "outputs": [
    {
     "data": {
      "text/plain": [
       "0.009395900000001234"
      ]
     },
     "execution_count": 52,
     "metadata": {},
     "output_type": "execute_result"
    }
   ],
   "source": [
    "timeit.timeit( \"tri_Rapide\",\n",
    "globals=globals(),\n",
    "number=100000)"
   ]
  },
  {
   "cell_type": "code",
   "execution_count": 53,
   "metadata": {},
   "outputs": [
    {
     "data": {
      "text/plain": [
       "0.003830199999995898"
      ]
     },
     "execution_count": 53,
     "metadata": {},
     "output_type": "execute_result"
    }
   ],
   "source": [
    "timeit.timeit( \"tri_Rapide\",\n",
    "globals=globals(),\n",
    "number=20000)"
   ]
  },
  {
   "cell_type": "code",
   "execution_count": null,
   "metadata": {},
   "outputs": [],
   "source": []
  }
 ],
 "metadata": {
  "kernelspec": {
   "display_name": "Python 3",
   "language": "python",
   "name": "python3"
  },
  "language_info": {
   "codemirror_mode": {
    "name": "ipython",
    "version": 3
   },
   "file_extension": ".py",
   "mimetype": "text/x-python",
   "name": "python",
   "nbconvert_exporter": "python",
   "pygments_lexer": "ipython3",
   "version": "3.8.3"
  }
 },
 "nbformat": 4,
 "nbformat_minor": 4
}
